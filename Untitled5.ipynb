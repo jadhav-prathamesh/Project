{
 "cells": [
  {
   "cell_type": "code",
   "execution_count": 1,
   "id": "200f3393",
   "metadata": {},
   "outputs": [],
   "source": [
    "# Python code for Corrosion Detection\n",
    "\n",
    "import numpy as np\n",
    "import cv2"
   ]
  },
  {
   "cell_type": "code",
   "execution_count": 43,
   "id": "b1905da2",
   "metadata": {},
   "outputs": [],
   "source": [
    "# read and capturing image\n",
    "img = cv2.imread(\"DJI_20231216103516_0005_T.JPG\", cv2.IMREAD_COLOR)"
   ]
  },
  {
   "cell_type": "code",
   "execution_count": 44,
   "id": "53f86149",
   "metadata": {},
   "outputs": [],
   "source": [
    "# Convert the imageFrame in\n",
    "# BGR(RGB color space) to\n",
    "# HSV(hue-saturation-value)\n",
    "# color space\n",
    "hsvFrame = cv2.cvtColor(img, cv2.COLOR_BGR2HSV)"
   ]
  },
  {
   "cell_type": "code",
   "execution_count": 45,
   "id": "04e660bf",
   "metadata": {},
   "outputs": [],
   "source": [
    "# Set range for corrosion color and\n",
    "# define mask\n",
    "corr_lower = np.array([0, 70, 70], np.uint8)\n",
    "corr_upper = np.array([20, 200, 150], np.uint8)\n",
    "corr_mask = cv2.inRange(hsvFrame, corr_lower, corr_upper)"
   ]
  },
  {
   "cell_type": "code",
   "execution_count": 46,
   "id": "2e4dc793",
   "metadata": {},
   "outputs": [],
   "source": [
    "# Morphological Transform, Dilation\n",
    "# for each corrosion color and bitwise_and operator\n",
    "# between imageFrame and mask determines\n",
    "# to detect only that particular corrosion color\n",
    "kernal = np.ones((5, 5), \"uint8\")"
   ]
  },
  {
   "cell_type": "code",
   "execution_count": 47,
   "id": "e3661ef2",
   "metadata": {},
   "outputs": [],
   "source": [
    "\t\n",
    "# For corrosion color\n",
    "corr_mask = cv2.dilate(corr_mask, kernal)\n",
    "res_corr = cv2.bitwise_and(img, img,\n",
    "\t\t\t\t\t\tmask = corr_mask)\n",
    "\n"
   ]
  },
  {
   "cell_type": "code",
   "execution_count": 48,
   "id": "d6d57b7d",
   "metadata": {},
   "outputs": [],
   "source": [
    "# Creating contour to track corrosion color\n",
    "contours, hierarchy = cv2.findContours(corr_mask,\n",
    "\t\t\t\t\t\t\t\t\tcv2.RETR_TREE,\n",
    "\t\t\t\t\t\t\t\t\tcv2.CHAIN_APPROX_SIMPLE)\n",
    "\t\n"
   ]
  },
  {
   "cell_type": "code",
   "execution_count": 49,
   "id": "d3dcb7f9",
   "metadata": {},
   "outputs": [],
   "source": [
    "for pic, contour in enumerate(contours):\n",
    "    area = cv2.contourArea(contour)\n",
    "    if(area > 300):\n",
    "        x, y, w, h = cv2.boundingRect(contour)\n",
    "        imageFrame = cv2.rectangle(img, (x, y),\n",
    "                                (x + w, y + h),\n",
    "                                (0, 0, 255), 2)\n",
    "        \n",
    "        cv2.putText(img, \"Corrosion\", (x, y),\n",
    "                    cv2.FONT_HERSHEY_SIMPLEX, 1.0,\n",
    "                    (0, 0, 255))\t\n",
    "\t\t\t\n"
   ]
  },
  {
   "cell_type": "code",
   "execution_count": 50,
   "id": "3f03150a",
   "metadata": {},
   "outputs": [],
   "source": [
    "# Program Termination\n",
    "cv2.imshow(\"Corrosion Detection\", cv2.resize(img, (1000, 800)))\n",
    "cv2.waitKey(0)\n",
    "cv2.destroyAllWindows()"
   ]
  },
  {
   "cell_type": "code",
   "execution_count": null,
   "id": "1a94acd4",
   "metadata": {},
   "outputs": [],
   "source": []
  },
  {
   "cell_type": "code",
   "execution_count": null,
   "id": "77b5f7cc",
   "metadata": {},
   "outputs": [],
   "source": []
  }
 ],
 "metadata": {
  "kernelspec": {
   "display_name": "Python 3",
   "language": "python",
   "name": "python3"
  },
  "language_info": {
   "codemirror_mode": {
    "name": "ipython",
    "version": 3
   },
   "file_extension": ".py",
   "mimetype": "text/x-python",
   "name": "python",
   "nbconvert_exporter": "python",
   "pygments_lexer": "ipython3",
   "version": "3.11.5"
  }
 },
 "nbformat": 4,
 "nbformat_minor": 5
}
