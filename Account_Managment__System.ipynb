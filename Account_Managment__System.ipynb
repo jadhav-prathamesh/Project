{
  "nbformat": 4,
  "nbformat_minor": 0,
  "metadata": {
    "colab": {
      "provenance": [],
      "authorship_tag": "ABX9TyNI41gFVpQLf2IkT9U0bfQO",
      "include_colab_link": true
    },
    "kernelspec": {
      "name": "python3",
      "display_name": "Python 3"
    },
    "language_info": {
      "name": "python"
    }
  },
  "cells": [
    {
      "cell_type": "markdown",
      "metadata": {
        "id": "view-in-github",
        "colab_type": "text"
      },
      "source": [
        "<a href=\"https://colab.research.google.com/github/jadhav-prathamesh/Project/blob/main/Account_Managment__System.ipynb\" target=\"_parent\"><img src=\"https://colab.research.google.com/assets/colab-badge.svg\" alt=\"Open In Colab\"/></a>"
      ]
    },
    {
      "cell_type": "code",
      "execution_count": null,
      "metadata": {
        "id": "Psn6fT3_POjQ"
      },
      "outputs": [],
      "source": [
        "'''Account management system\n",
        "The main objective Account management system is menu based program that take nth number of records from user and then establish database connection,\n",
        "to create table to insert values to read and print data to update values.to delete records to exits from database connection to fetch the active\n",
        "and no active account from table, to Create python master class and Functions for each activity, Print and store the result into .csv fle'''"
      ]
    },
    {
      "cell_type": "code",
      "source": [
        "print(\"Menu : \\n1. To establish the database connection \\n2. To create table \\n3. To insert value \\n4. To print and read value \\n5. To update value \\n6. To delete value \\n7. To exit \\n8. Invalid choice\")\n",
        "ch = int(input(\"Enter your choice: \"))\n",
        "if ch == 1:\n",
        "  Establish_connection()\n",
        "  print(\"Connection is established\")\n",
        "elif ch == 2:\n",
        "  Create_table()\n",
        "  print(\"Table is created\")\n",
        "elif ch == 3:\n",
        "  Insert_value()\n",
        "  print(\"Values are inserted\")\n",
        "elif ch == 4:\n",
        "  Read_value()\n",
        "  print(\"Values are read and print from database\")\n",
        "elif ch == 5:\n",
        "  Update_value()\n",
        "  print(\"Values are updated into database\")\n",
        "elif ch == 6:\n",
        "  Delete_value()\n",
        "  print(\"Value is deleted from database\")\n",
        "elif ch == 7:\n",
        "  exit()\n",
        "  print(\"Exit\")\n",
        "else:\n",
        "  print(\"Invalid Choice\")\n",
        "\n",
        "\n"
      ],
      "metadata": {
        "colab": {
          "base_uri": "https://localhost:8080/",
          "height": 384
        },
        "id": "zQBNXfbePZSE",
        "outputId": "b94491c4-0e81-44ba-d179-9fcaa656aa81"
      },
      "execution_count": 4,
      "outputs": [
        {
          "name": "stdout",
          "output_type": "stream",
          "text": [
            "Menu : \n",
            "1. To establish the database connection \n",
            "2. To create table \n",
            "3. To insert value \n",
            "4. To print and read value \n",
            "5. To update value \n",
            "6. To delete value \n",
            "7. To exit \n",
            "8. Invalid choice\n",
            "Enter your choice: 1\n"
          ]
        },
        {
          "output_type": "error",
          "ename": "NameError",
          "evalue": "name 'Establish_connection' is not defined",
          "traceback": [
            "\u001b[0;31m---------------------------------------------------------------------------\u001b[0m",
            "\u001b[0;31mNameError\u001b[0m                                 Traceback (most recent call last)",
            "\u001b[0;32m<ipython-input-4-55b36744cdfb>\u001b[0m in \u001b[0;36m<cell line: 3>\u001b[0;34m()\u001b[0m\n\u001b[1;32m      2\u001b[0m \u001b[0mch\u001b[0m \u001b[0;34m=\u001b[0m \u001b[0mint\u001b[0m\u001b[0;34m(\u001b[0m\u001b[0minput\u001b[0m\u001b[0;34m(\u001b[0m\u001b[0;34m\"Enter your choice: \"\u001b[0m\u001b[0;34m)\u001b[0m\u001b[0;34m)\u001b[0m\u001b[0;34m\u001b[0m\u001b[0;34m\u001b[0m\u001b[0m\n\u001b[1;32m      3\u001b[0m \u001b[0;32mif\u001b[0m \u001b[0mch\u001b[0m \u001b[0;34m==\u001b[0m \u001b[0;36m1\u001b[0m\u001b[0;34m:\u001b[0m\u001b[0;34m\u001b[0m\u001b[0;34m\u001b[0m\u001b[0m\n\u001b[0;32m----> 4\u001b[0;31m   \u001b[0mEstablish_connection\u001b[0m\u001b[0;34m(\u001b[0m\u001b[0;34m)\u001b[0m\u001b[0;34m\u001b[0m\u001b[0;34m\u001b[0m\u001b[0m\n\u001b[0m\u001b[1;32m      5\u001b[0m   \u001b[0mprint\u001b[0m\u001b[0;34m(\u001b[0m\u001b[0;34m\"Connection is established\"\u001b[0m\u001b[0;34m)\u001b[0m\u001b[0;34m\u001b[0m\u001b[0;34m\u001b[0m\u001b[0m\n\u001b[1;32m      6\u001b[0m \u001b[0;32melif\u001b[0m \u001b[0mch\u001b[0m \u001b[0;34m==\u001b[0m \u001b[0;36m2\u001b[0m\u001b[0;34m:\u001b[0m\u001b[0;34m\u001b[0m\u001b[0;34m\u001b[0m\u001b[0m\n",
            "\u001b[0;31mNameError\u001b[0m: name 'Establish_connection' is not defined"
          ]
        }
      ]
    },
    {
      "cell_type": "code",
      "source": [
        "import sqlite3"
      ],
      "metadata": {
        "id": "hC87d2eoRxjt"
      },
      "execution_count": 6,
      "outputs": []
    },
    {
      "cell_type": "code",
      "source": [
        "def Establish_connection():\n",
        "  db = sqlite3.connect(\"Account.db\")\n",
        "Establish_connection()"
      ],
      "metadata": {
        "id": "NPfrG1LYP_0u"
      },
      "execution_count": 7,
      "outputs": []
    },
    {
      "cell_type": "code",
      "source": [
        "def Create_table():\n",
        "  db = sqlite3.connect(\"Account.db\")\n",
        "\n",
        "  cursor = db.cursor()\n",
        "  sql = \"create table account(Account_id int, Account_name char(12), Account_size int, Account_duration int, Account_budget int, Status char(20))\"\n",
        "  cursor.execute(sql)\n",
        "  db.close()\n",
        "\n",
        "Create_table()"
      ],
      "metadata": {
        "id": "IaJp6-iaRqhQ"
      },
      "execution_count": 8,
      "outputs": []
    },
    {
      "cell_type": "code",
      "source": [
        "def Insert_value():\n",
        "  db = sqlite3.connect(\"Account.db\")\n",
        "\n",
        "  cursor = db.cursor()\n",
        "  n = int(input(\"Enter number of elements:\"))\n",
        "  for i in range(0,n):\n",
        "    Account_id = int(input(\"Enter Account_id: \"))\n",
        "    Account_name = input(\"Enter Account_name: \")\n",
        "    Account_size = int(input(\"Enter Account_size(No. of resouces): \"))\n",
        "    Account_duration = int(input(\"Enter Account_duration(Days): \"))\n",
        "    Account_budget = int(input(\"Enter Account_budget(Days): \"))\n",
        "    Status = input(\"Enter Status(Active/Non-Active): \")\n",
        "\n",
        "    sql = \"insert into account values(%d,%s,%d,%d,%d,%s)\" % ( Account_id,Account_name,Account_size,Account_duration,Account_budget,Status)\n",
        "\n",
        "    try:\n",
        "      cursor.execute(sql)\n",
        "      db.commit()\n",
        "    except Exception as e:\n",
        "      print(\"Error\",e)\n",
        "      db.rollback()\n",
        "  db.close()\n",
        "Insert_value()\n",
        "\n"
      ],
      "metadata": {
        "colab": {
          "base_uri": "https://localhost:8080/"
        },
        "id": "1e6uwSc6S0Mw",
        "outputId": "2af29967-762c-40b6-e095-13eb325bce57"
      },
      "execution_count": 13,
      "outputs": [
        {
          "output_type": "stream",
          "name": "stdout",
          "text": [
            "Enter number of elements:1\n",
            "Enter Account_id: 100\n",
            "Enter Account_name: SBI\n",
            "Enter Account_size(No. of resouces): 4\n",
            "Enter Account_duration(Days): 5\n",
            "Enter Account_budget(Days): 999\n",
            "Enter Status(Active/Non-Active): Active\n",
            "Error no such column: SBI\n"
          ]
        }
      ]
    },
    {
      "cell_type": "code",
      "source": [
        "#read values\n",
        "def Read_values():\n",
        "  db = sqlite3.connect('Account.db')\n",
        "  cursor = db.cursor()\n",
        "\n",
        "  sql = \"select * from account\"\n",
        "\n",
        "  data = cursor.execute(sql).fetchall()\n",
        "\n",
        "  for d in data:\n",
        "    print(d)\n",
        "Read_values()"
      ],
      "metadata": {
        "id": "zA_ExC_teiyM"
      },
      "execution_count": 14,
      "outputs": []
    },
    {
      "cell_type": "code",
      "source": [
        "#delte value\n",
        "def Delete_values():\n",
        "  db = sqlite3.connect('Account.db')\n",
        "\n",
        "  cursor = db.cursor()\n",
        "\n",
        "\n",
        "  sql =\"delete from account where Account_Duration ='27'\"\n",
        "\n",
        "  try:\n",
        "    cursor.execute(sql)\n",
        "    db.commit() #save changes except Exception as e:\n",
        "  except Exception as e:\n",
        "    print(\"error:\",e)\n",
        "    db.rollback() #rollback in case of error\n",
        "  db.close()\n",
        "Delete_values()"
      ],
      "metadata": {
        "id": "0-kBLiKbk-Ad"
      },
      "execution_count": 15,
      "outputs": []
    },
    {
      "cell_type": "code",
      "source": [
        "#update value\n",
        "def Update_values():\n",
        "  db = sqlite3.connect('Account.db')\n",
        "\n",
        "  cursor = db.cursor()\n",
        "\n",
        "  Account_Budget=int(input(\"enter Account_Budget:\"))\n",
        "\n",
        "  sql = \"update account set Account_Budget=%d\"%(Account_Budget)\n",
        "\n",
        "  try:\n",
        "    cursor.execute(sql)\n",
        "    db.commit() #save changes except Exception as e:\n",
        "  except Exception as e:\n",
        "    print(\"error:\",e)\n",
        "    db.rollback() #rollback in case of error\n",
        "  db.close()\n",
        "Update_values()"
      ],
      "metadata": {
        "colab": {
          "base_uri": "https://localhost:8080/"
        },
        "id": "yyK5D929k_i_",
        "outputId": "c2dd4911-bf38-4638-f14c-96769a941ceb"
      },
      "execution_count": 16,
      "outputs": [
        {
          "name": "stdout",
          "output_type": "stream",
          "text": [
            "enter Account_Budget:800000\n"
          ]
        }
      ]
    },
    {
      "cell_type": "code",
      "source": [
        "def exit():\n",
        "  print(\"Exit\")\n",
        "exit()"
      ],
      "metadata": {
        "colab": {
          "base_uri": "https://localhost:8080/"
        },
        "id": "yoRIsZ5mlA47",
        "outputId": "23b3f8a3-2c15-4112-cdc6-3d2f02571776"
      },
      "execution_count": 17,
      "outputs": [
        {
          "output_type": "stream",
          "name": "stdout",
          "text": [
            "Exit\n"
          ]
        }
      ]
    },
    {
      "cell_type": "code",
      "source": [
        "import sqlite3\n",
        "import pandas as pd\n",
        "from glob import glob; from os.path import expanduser\n",
        "conn = sqlite3.connect('Account.db')\n",
        "cursor = conn.cursor()\n",
        "clients = pd.read_sql('SELECT * FROM Account' ,conn)\n",
        "clients.to_csv('csvdata.csv', index=False)"
      ],
      "metadata": {
        "id": "UqZ-yQtrlGcP"
      },
      "execution_count": 18,
      "outputs": []
    },
    {
      "cell_type": "code",
      "source": [
        "import sqlite3\n",
        "\n",
        "# Connect to the database\n",
        "db = sqlite3.connect('Account.db')\n",
        "cursor = db.cursor()\n",
        "\n",
        "# Define the SQL query to fetch active and non-active accounts\n",
        "sql = \"SELECT * FROM Account WHERE Status = 1 OR Status = 0\"\n",
        "\n",
        "# Execute the query and fetch the results\n",
        "cursor.execute(sql)\n",
        "data = cursor.fetchall()\n",
        "\n",
        "# Print the fetched data\n",
        "for d in data:\n",
        "    print(d)\n",
        "\n",
        "# Close the database connection\n",
        "db.close()\n"
      ],
      "metadata": {
        "id": "FdClNEo_lI3z"
      },
      "execution_count": 21,
      "outputs": []
    },
    {
      "cell_type": "code",
      "source": [],
      "metadata": {
        "id": "ApY4BP1hlKgS"
      },
      "execution_count": null,
      "outputs": []
    }
  ]
}