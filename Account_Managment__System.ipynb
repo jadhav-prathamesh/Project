{
  "nbformat": 4,
  "nbformat_minor": 0,
  "metadata": {
    "colab": {
      "provenance": [],
      "authorship_tag": "ABX9TyN9Ujub7+r0itZbp2+gQP31",
      "include_colab_link": true
    },
    "kernelspec": {
      "name": "python3",
      "display_name": "Python 3"
    },
    "language_info": {
      "name": "python"
    }
  },
  "cells": [
    {
      "cell_type": "markdown",
      "metadata": {
        "id": "view-in-github",
        "colab_type": "text"
      },
      "source": [
        "<a href=\"https://colab.research.google.com/github/jadhav-prathamesh/Project/blob/main/Account_Managment__System.ipynb\" target=\"_parent\"><img src=\"https://colab.research.google.com/assets/colab-badge.svg\" alt=\"Open In Colab\"/></a>"
      ]
    },
    {
      "cell_type": "code",
      "execution_count": null,
      "metadata": {
        "id": "Psn6fT3_POjQ",
        "colab": {
          "base_uri": "https://localhost:8080/",
          "height": 87
        },
        "outputId": "cc3be8cb-7146-467f-bd7c-83dd2684e99a"
      },
      "outputs": [
        {
          "output_type": "execute_result",
          "data": {
            "text/plain": [
              "'Account management system\\nThe main objective Account management system is menu based program that take nth number of records from user and then establish database connection,\\nto create table to insert values to read and print data to update values.to delete records to exits from database connection to fetch the active\\nand no active account from table, to Create python master class and Functions for each activity, Print and store the result into .csv fle'"
            ],
            "application/vnd.google.colaboratory.intrinsic+json": {
              "type": "string"
            }
          },
          "metadata": {},
          "execution_count": 1
        }
      ],
      "source": [
        "'''Account management system\n",
        "The main objective Account management system is menu based program that take nth number of records from user and then establish database connection,\n",
        "to create table to insert values to read and print data to update values.to delete records to exits from database connection to fetch the active\n",
        "and no active account from table, to Create python master class and Functions for each activity, Print and store the result into .csv fle'''"
      ]
    },
    {
      "cell_type": "code",
      "source": [
        "import sqlite3\n",
        "import pandas as pd\n",
        "\n"
      ],
      "metadata": {
        "id": "h2G0R3bmHMLP"
      },
      "execution_count": 5,
      "outputs": []
    },
    {
      "cell_type": "code",
      "source": [
        "class AccountManagementSystem:\n",
        "    def __init__(self):\n",
        "        self.conn = None\n",
        "        self.cursor = None\n",
        "\n",
        "    def establish_connection(self):\n",
        "        try:\n",
        "            self.conn = sqlite3.connect('Account.db')\n",
        "            self.cursor = self.conn.cursor()\n",
        "            print(\"Connection established.\")\n",
        "        except sqlite3.Error as e:\n",
        "            print(f\"Error establishing connection: {e}\")\n",
        "\n",
        "    def create_table(self):\n",
        "        try:\n",
        "            self.cursor.execute('''\n",
        "                CREATE TABLE IF NOT EXISTS account (\n",
        "                    Account_id INTEGER PRIMARY KEY,\n",
        "                    Account_name TEXT,\n",
        "                    Account_size INTEGER,\n",
        "                    Account_duration INTEGER,\n",
        "                    Account_budget INTEGER,\n",
        "                    Status TEXT\n",
        "                )\n",
        "            ''')\n",
        "            self.conn.commit()\n",
        "            print(\"Table created.\")\n",
        "        except sqlite3.Error as e:\n",
        "            print(f\"Error creating table: {e}\")\n",
        "\n",
        "    def insert_value(self):\n",
        "        try:\n",
        "            n = int(input(\"Enter number of records: \"))\n",
        "            for _ in range(n):\n",
        "                Account_id = int(input(\"Enter Account ID: \"))\n",
        "                Account_name = input(\"Enter Account Name: \")\n",
        "                Account_size = int(input(\"Enter Account Size (No. of resources): \"))\n",
        "                Account_duration = int(input(\"Enter Account Duration (Days): \"))\n",
        "                Account_budget = int(input(\"Enter Account Budget: \"))\n",
        "                Status = input(\"Enter Status (Active/Non-Active): \")\n",
        "\n",
        "                sql = '''\n",
        "                    INSERT INTO account (Account_id, Account_name, Account_size, Account_duration, Account_budget, Status)\n",
        "                    VALUES (?, ?, ?, ?, ?, ?)\n",
        "                '''\n",
        "                self.cursor.execute(sql, (Account_id, Account_name, Account_size, Account_duration, Account_budget, Status))\n",
        "            self.conn.commit()\n",
        "            print(\"Values inserted.\")\n",
        "        except sqlite3.Error as e:\n",
        "            print(f\"Error inserting values: {e}\")\n",
        "        except ValueError:\n",
        "            print(\"Invalid input. Please enter the correct data type.\")\n",
        "\n",
        "    def read_values(self):\n",
        "        try:\n",
        "            self.cursor.execute(\"SELECT * FROM account\")\n",
        "            data = self.cursor.fetchall()\n",
        "            for row in data:\n",
        "                print(row)\n",
        "        except sqlite3.Error as e:\n",
        "            print(f\"Error reading values: {e}\")\n",
        "\n",
        "    def update_value(self):\n",
        "        try:\n",
        "            Account_id = int(input(\"Enter Account ID to update: \"))\n",
        "            new_budget = int(input(\"Enter new Account Budget: \"))\n",
        "            sql = \"UPDATE account SET Account_budget = ? WHERE Account_id = ?\"\n",
        "            self.cursor.execute(sql, (new_budget, Account_id))\n",
        "            self.conn.commit()\n",
        "            print(\"Value updated.\")\n",
        "        except sqlite3.Error as e:\n",
        "            print(f\"Error updating value: {e}\")\n",
        "        except ValueError:\n",
        "            print(\"Invalid input. Please enter the correct data type.\")\n",
        "\n",
        "    def delete_value(self):\n",
        "        try:\n",
        "            Account_id = int(input(\"Enter Account ID to delete: \"))\n",
        "            sql = \"DELETE FROM account WHERE Account_id = ?\"\n",
        "            self.cursor.execute(sql, (Account_id,))\n",
        "            self.conn.commit()\n",
        "            print(\"Value deleted.\")\n",
        "        except sqlite3.Error as e:\n",
        "            print(f\"Error deleting value: {e}\")\n",
        "        except ValueError:\n",
        "            print(\"Invalid input. Please enter the correct data type.\")\n",
        "\n",
        "    def export_to_csv(self):\n",
        "        try:\n",
        "            df = pd.read_sql_query(\"SELECT * FROM account\", self.conn)\n",
        "            df.to_csv('account_data.csv', index=False)\n",
        "            print(\"Data exported to account_data.csv.\")\n",
        "        except Exception as e:\n",
        "            print(f\"Error exporting data to CSV: {e}\")\n",
        "\n",
        "    def fetch_active_non_active(self):\n",
        "        try:\n",
        "            sql = \"SELECT * FROM account WHERE Status = 'Active' OR Status = 'Non-Active'\"\n",
        "            self.cursor.execute(sql)\n",
        "            data = self.cursor.fetchall()\n",
        "            for row in data:\n",
        "                print(row)\n",
        "        except sqlite3.Error as e:\n",
        "            print(f\"Error fetching active/non-active accounts: {e}\")\n",
        "\n",
        "    def close_connection(self):\n",
        "        if self.conn:\n",
        "            self.conn.close()\n",
        "            print(\"Connection closed.\")\n",
        "\n",
        "    def menu(self):\n",
        "        while True:\n",
        "            print(\"\\nMenu:\")\n",
        "            print(\"1. Establish database connection\")\n",
        "            print(\"2. Create table\")\n",
        "            print(\"3. Insert value\")\n",
        "            print(\"4. Read value\")\n",
        "            print(\"5. Update value\")\n",
        "            print(\"6. Delete value\")\n",
        "            print(\"7. Export to CSV\")\n",
        "            print(\"8. Fetch active/non-active accounts\")\n",
        "            print(\"9. Exit\")\n",
        "\n",
        "            try:\n",
        "                choice = int(input(\"Enter your choice: \"))\n",
        "                if choice == 1:\n",
        "                    self.establish_connection()\n",
        "                elif choice == 2:\n",
        "                    self.create_table()\n",
        "                elif choice == 3:\n",
        "                    self.insert_value()\n",
        "                elif choice == 4:\n",
        "                    self.read_values()\n",
        "                elif choice == 5:\n",
        "                    self.update_value()\n",
        "                elif choice == 6:\n",
        "                    self.delete_value()\n",
        "                elif choice == 7:\n",
        "                    self.export_to_csv()\n",
        "                elif choice == 8:\n",
        "                    self.fetch_active_non_active()\n",
        "                elif choice == 9:\n",
        "                    self.close_connection()\n",
        "                    break\n",
        "                else:\n",
        "                    print(\"Invalid choice.\")\n",
        "            except ValueError:\n",
        "                print(\"Please enter a valid choice.\")\n",
        "\n",
        "if __name__ == \"__main__\":\n",
        "    ams = AccountManagementSystem()\n",
        "    ams.menu()\n"
      ],
      "metadata": {
        "id": "zOo-A7bFEFyb",
        "colab": {
          "base_uri": "https://localhost:8080/"
        },
        "outputId": "505e7f8f-a962-4a2a-f174-93686ed0ef34"
      },
      "execution_count": null,
      "outputs": [
        {
          "output_type": "stream",
          "name": "stdout",
          "text": [
            "\n",
            "Menu:\n",
            "1. Establish database connection\n",
            "2. Create table\n",
            "3. Insert value\n",
            "4. Read value\n",
            "5. Update value\n",
            "6. Delete value\n",
            "7. Export to CSV\n",
            "8. Fetch active/non-active accounts\n",
            "9. Exit\n"
          ]
        }
      ]
    }
  ]
}